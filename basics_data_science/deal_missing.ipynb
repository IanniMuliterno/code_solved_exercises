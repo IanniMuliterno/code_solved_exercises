{
 "cells": [
  {
   "cell_type": "markdown",
   "metadata": {},
   "source": [
    "## Here are how to deal with missing data with python\n",
    "\n",
    "### 1. detect"
   ]
  },
  {
   "cell_type": "code",
   "execution_count": null,
   "metadata": {},
   "outputs": [],
   "source": [
    "df.isna()\n",
    "df.isnull()\n"
   ]
  },
  {
   "cell_type": "markdown",
   "metadata": {},
   "source": [
    "### 2. Remove (Option 1)"
   ]
  },
  {
   "cell_type": "code",
   "execution_count": null,
   "metadata": {},
   "outputs": [],
   "source": [
    "df.dropna()  # Remove rows with any missing values\n",
    "df.dropna(axis=1)  # Remove columns with any missing values\n",
    "df.dropna(how='all')  # Remove rows where all elements are missing\n",
    "df.dropna(thresh=2)  # Remove rows with at least 2 non-NA values\n"
   ]
  },
  {
   "cell_type": "markdown",
   "metadata": {},
   "source": [
    "### 3. Fill (option 2)"
   ]
  },
  {
   "cell_type": "code",
   "execution_count": null,
   "metadata": {},
   "outputs": [],
   "source": [
    "df.fillna(0)  # Fill all NA values with 0\n",
    "df.fillna(method='ffill')  # Forward fill\n",
    "df.fillna(method='bfill')  # Backward fill\n",
    "\n",
    "df['column'].fillna(df['column'].mean(), inplace=True)  # Fill with mean\n",
    "df['column'].fillna(df['column'].median(), inplace=True)  # Fill with median\n",
    "df['column'].fillna(df['column'].mode()[0], inplace=True)  # Fill with mode\n"
   ]
  },
  {
   "cell_type": "markdown",
   "metadata": {},
   "source": [
    "### 4. replace (option 3)"
   ]
  },
  {
   "cell_type": "code",
   "execution_count": null,
   "metadata": {},
   "outputs": [],
   "source": [
    "df.replace(to_replace=np.nan, value=0)  # Replace NaN with 0\n"
   ]
  },
  {
   "cell_type": "markdown",
   "metadata": {},
   "source": [
    "### 5. interpolate (option 4)"
   ]
  },
  {
   "cell_type": "code",
   "execution_count": null,
   "metadata": {},
   "outputs": [],
   "source": [
    "df.interpolate()  # Default is linear interpolation\n",
    "df.interpolate(method='polynomial', order=2)  # Polynomial interpolation"
   ]
  },
  {
   "cell_type": "code",
   "execution_count": 1,
   "metadata": {},
   "outputs": [
    {
     "name": "stdout",
     "output_type": "stream",
     "text": [
      "       A      B      C\n",
      "0  False   True  False\n",
      "1  False  False  False\n",
      "2   True  False  False\n",
      "3  False  False   True\n"
     ]
    }
   ],
   "source": [
    "import pandas as pd\n",
    "import numpy as np\n",
    "\n",
    "# Create a DataFrame with missing values\n",
    "data = {\n",
    "    'A': [1, 2, np.nan, 4],\n",
    "    'B': [np.nan, 2, 3, 4],\n",
    "    'C': [1, 2, 3, np.nan]\n",
    "}\n",
    "df = pd.DataFrame(data)\n",
    "\n",
    "# Detect missing data\n",
    "print(df.isna())\n"
   ]
  },
  {
   "cell_type": "code",
   "execution_count": 2,
   "metadata": {},
   "outputs": [
    {
     "name": "stdout",
     "output_type": "stream",
     "text": [
      "     A    B    C\n",
      "1  2.0  2.0  2.0\n"
     ]
    }
   ],
   "source": [
    "# Remove rows with any missing values\n",
    "df_dropped = df.dropna()\n",
    "print(df_dropped)"
   ]
  },
  {
   "cell_type": "code",
   "execution_count": 3,
   "metadata": {},
   "outputs": [
    {
     "name": "stdout",
     "output_type": "stream",
     "text": [
      "     A    B    C\n",
      "0  1.0  0.0  1.0\n",
      "1  2.0  2.0  2.0\n",
      "2  0.0  3.0  3.0\n",
      "3  4.0  4.0  0.0\n"
     ]
    }
   ],
   "source": [
    "# Fill missing values with 0\n",
    "df_filled = df.fillna(0)\n",
    "print(df_filled)"
   ]
  },
  {
   "cell_type": "code",
   "execution_count": 4,
   "metadata": {},
   "outputs": [
    {
     "name": "stdout",
     "output_type": "stream",
     "text": [
      "     A    B    C\n",
      "0  1.0  NaN  1.0\n",
      "1  2.0  2.0  2.0\n",
      "2  2.0  3.0  3.0\n",
      "3  4.0  4.0  3.0\n"
     ]
    }
   ],
   "source": [
    "# Forward fill missing values\n",
    "df_ffill = df.fillna(method='ffill')\n",
    "print(df_ffill)"
   ]
  },
  {
   "cell_type": "code",
   "execution_count": 5,
   "metadata": {},
   "outputs": [
    {
     "name": "stdout",
     "output_type": "stream",
     "text": [
      "     A    B    C\n",
      "0  1.0  NaN  1.0\n",
      "1  2.0  2.0  2.0\n",
      "2  3.0  3.0  3.0\n",
      "3  4.0  4.0  3.0\n"
     ]
    }
   ],
   "source": [
    "# Interpolate missing values\n",
    "df_interpolated = df.interpolate()\n",
    "print(df_interpolated)"
   ]
  },
  {
   "cell_type": "code",
   "execution_count": 6,
   "metadata": {},
   "outputs": [
    {
     "name": "stdout",
     "output_type": "stream",
     "text": [
      "          A    B    C\n",
      "0  1.000000  NaN  1.0\n",
      "1  2.000000  2.0  2.0\n",
      "2  2.333333  3.0  3.0\n",
      "3  4.000000  4.0  NaN\n"
     ]
    }
   ],
   "source": [
    "# Fill missing values in column 'A' with the mean\n",
    "df['A'].fillna(df['A'].mean(), inplace=True)\n",
    "print(df)"
   ]
  }
 ],
 "metadata": {
  "kernelspec": {
   "display_name": "base",
   "language": "python",
   "name": "python3"
  },
  "language_info": {
   "codemirror_mode": {
    "name": "ipython",
    "version": 3
   },
   "file_extension": ".py",
   "mimetype": "text/x-python",
   "name": "python",
   "nbconvert_exporter": "python",
   "pygments_lexer": "ipython3",
   "version": "3.9.12"
  }
 },
 "nbformat": 4,
 "nbformat_minor": 2
}
