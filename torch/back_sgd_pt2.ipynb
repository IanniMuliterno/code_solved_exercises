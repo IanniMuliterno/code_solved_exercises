{
 "cells": [
  {
   "cell_type": "code",
   "execution_count": 6,
   "metadata": {},
   "outputs": [],
   "source": [
    "import torch\n",
    "import numpy as np"
   ]
  },
  {
   "cell_type": "code",
   "execution_count": 2,
   "metadata": {},
   "outputs": [],
   "source": [
    "import torch.nn as nn\n",
    "\n",
    "def forward(x):\n",
    "    return x*ww"
   ]
  },
  {
   "cell_type": "code",
   "execution_count": 24,
   "metadata": {},
   "outputs": [],
   "source": [
    "iteration = 10\n",
    "lr = 0.04\n",
    "ww = torch.tensor(1.0, requires_grad = True)\n",
    "x = torch.tensor([1, 2, 3, 4],dtype = torch.float32)\n",
    "y = 2*x\n",
    "\n",
    "\n",
    "l = nn.MSELoss()\n",
    "optmizer = torch.optim.SGD([ww], lr = lr)"
   ]
  },
  {
   "cell_type": "code",
   "execution_count": 25,
   "metadata": {},
   "outputs": [
    {
     "name": "stdout",
     "output_type": "stream",
     "text": [
      "Iter: 0 ------  Loss: 7.50000; w: 1.600\n",
      "Iter: 1 ------  Loss: 1.20000; w: 1.840\n",
      "Iter: 2 ------  Loss: 0.19200; w: 1.936\n",
      "Iter: 3 ------  Loss: 0.03072; w: 1.974\n",
      "Iter: 4 ------  Loss: 0.00492; w: 1.990\n",
      "Iter: 5 ------  Loss: 0.00079; w: 1.996\n",
      "Iter: 6 ------  Loss: 0.00013; w: 1.998\n",
      "Iter: 7 ------  Loss: 0.00002; w: 1.999\n",
      "Iter: 8 ------  Loss: 0.00000; w: 2.000\n",
      "Iter: 9 ------  Loss: 0.00000; w: 2.000\n"
     ]
    }
   ],
   "source": [
    "for i in range(iteration):\n",
    "\n",
    "    y_pred = forward(x)\n",
    "\n",
    "    loss = l(y,y_pred)\n",
    "\n",
    "    loss.backward()\n",
    "\n",
    "    # updating weights, at first we used : ww -= grd*lr\n",
    "    optmizer.step()\n",
    "    \n",
    "    #zero grad\n",
    "    ww.grad.zero_()\n",
    "\n",
    "    print(f'Iter: {i} ------  Loss: {loss:.5f}; w: {ww:.3f}')\n",
    "\n"
   ]
  }
 ],
 "metadata": {
  "kernelspec": {
   "display_name": "cuda-gpt",
   "language": "python",
   "name": "cuda"
  },
  "language_info": {
   "codemirror_mode": {
    "name": "ipython",
    "version": 3
   },
   "file_extension": ".py",
   "mimetype": "text/x-python",
   "name": "python",
   "nbconvert_exporter": "python",
   "pygments_lexer": "ipython3",
   "version": "3.9.12"
  }
 },
 "nbformat": 4,
 "nbformat_minor": 2
}
