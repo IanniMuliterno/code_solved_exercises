{
 "cells": [
  {
   "cell_type": "code",
   "execution_count": 1,
   "metadata": {},
   "outputs": [],
   "source": [
    "import torch\n",
    "import torch.nn as nn\n",
    "import torch.nn.functional as F\n",
    "import torchvision\n",
    "import torchvision.transforms as transforms\n",
    "import matplotlib.pyplot as plt\n",
    "import numpy as np\n",
    "\n",
    "\n",
    "# Device configuration\n",
    "device = torch.device( 'cuda'  if torch.cuda.is_available() else 'cpu')\n",
    "\n",
    "# Hyper-parameters \n",
    "num_epochs = 2\n",
    "batch_size = 4\n",
    "learning_rate = 0.001"
   ]
  },
  {
   "cell_type": "code",
   "execution_count": 2,
   "metadata": {},
   "outputs": [
    {
     "name": "stdout",
     "output_type": "stream",
     "text": [
      "Files already downloaded and verified\n"
     ]
    }
   ],
   "source": [
    "\n",
    "# dataset has PILImage images of range [0, 1]. \n",
    "# We transform them to Tensors of normalized range [-1, 1]\n",
    "transform = transforms.Compose(\n",
    "    [transforms.ToTensor(),\n",
    "     transforms.Normalize((0.5,0.5,0.5),(0.5,0.5,0.5))]\n",
    ")\n",
    "\n",
    "# CIFAR10: 60000 32x32 color images in 10 classes, with 6000 images per class\n",
    "train_dataset = torchvision.datasets.CIFAR10(root='.\\data', transform=transform,\n",
    "                                             train=True, download=True)\n",
    "\n",
    "test_dataset = torchvision.datasets.CIFAR10(root='.\\data', transform=transform,\n",
    "                                            train=False)\n",
    "\n",
    "train_loader = torch.utils.data.DataLoader(train_dataset,shuffle=True)\n",
    "\n",
    "test_loader = torch.utils.data.DataLoader(test_dataset,shuffle=True)\n"
   ]
  },
  {
   "cell_type": "code",
   "execution_count": 3,
   "metadata": {},
   "outputs": [],
   "source": [
    "\n",
    "classes = ('plane', 'car', 'bird', 'cat',\n",
    "           'deer', 'dog', 'frog', 'horse', 'ship', 'truck')\n",
    "\n",
    "def imshow(img):\n",
    "    img = img / 2 + 0.5  # unnormalize\n",
    "    npimg = img.numpy()\n",
    "    plt.imshow(np.transpose(npimg, (1, 2, 0)))\n",
    "    plt.show()"
   ]
  },
  {
   "cell_type": "code",
   "execution_count": 4,
   "metadata": {},
   "outputs": [
    {
     "data": {
      "image/png": "[encoded data removed]",
      "text/plain": [
       "<Figure size 432x288 with 1 Axes>"
      ]
     },
     "metadata": {
      "needs_background": "light"
     },
     "output_type": "display_data"
    }
   ],
   "source": [
    "# get some random training images\n",
    "dataiter  = iter(train_loader)\n",
    "images, labels = next(dataiter)\n",
    "\n",
    "# show images\n",
    "imshow(torchvision.utils.make_grid(images))"
   ]
  },
  {
   "cell_type": "code",
   "execution_count": 5,
   "metadata": {},
   "outputs": [],
   "source": [
    "\n",
    "class ConvNet(nn.Module):\n",
    "    def __init__(self):\n",
    "        super(ConvNet, self).__init__()\n",
    "        self.cnn1 = nn.Conv2d(3,6,5)\n",
    "        self.pooling = nn.MaxPool2d(2,2)\n",
    "        self.cnn2 = nn.Conv2d(6,16,5)\n",
    "\n",
    "        self.fc1 = nn.Linear(16*5*5,120)\n",
    "        self.fc2 = nn.Linear(120,84)\n",
    "        self.fc3 = nn.Linear(84,10)\n",
    "\n",
    "\n",
    "    def forward(self, x):\n",
    "         # -> n, 3, 32, 32\n",
    "         def __init__(self):\n",
    "             super(ConvNet, self).__init__()\n",
    "             x = self.pooling(F.relu(self.cnn1(x)))     # -> n, 6, 14, 14\n",
    "             x = self.pooling(F.relu(self.cnn2(x)))# -> n, 16, 5, 5\n",
    "             x =x.view(-1, 16*5*5) # -> n, 400\n",
    "             x = self.fc1(x) # -> n, 120\n",
    "             x = self.fc2(x) # -> n, 84\n",
    "             x = self.fc3(x) # -> n, 10\n",
    "             return x\n",
    "\n",
    "\n"
   ]
  },
  {
   "cell_type": "markdown",
   "metadata": {},
   "source": [
    "### Training Loop"
   ]
  },
  {
   "cell_type": "code",
   "execution_count": 8,
   "metadata": {},
   "outputs": [
    {
     "name": "stdout",
     "output_type": "stream",
     "text": [
      "Epoch [1/5], Step [2000/12500], Loss: 2.3117\n",
      "Epoch [1/5], Step [4000/12500], Loss: 2.2796\n",
      "Epoch [1/5], Step [6000/12500], Loss: 2.3105\n",
      "Epoch [1/5], Step [8000/12500], Loss: 2.3061\n",
      "Epoch [1/5], Step [10000/12500], Loss: 2.3034\n",
      "Epoch [1/5], Step [12000/12500], Loss: 2.1105\n",
      "Epoch [2/5], Step [2000/12500], Loss: 1.8461\n",
      "Epoch [2/5], Step [4000/12500], Loss: 1.8025\n",
      "Epoch [2/5], Step [6000/12500], Loss: 1.4768\n",
      "Epoch [2/5], Step [8000/12500], Loss: 2.1638\n",
      "Epoch [2/5], Step [10000/12500], Loss: 1.9670\n",
      "Epoch [2/5], Step [12000/12500], Loss: 1.6845\n",
      "Epoch [3/5], Step [2000/12500], Loss: 1.7840\n",
      "Epoch [3/5], Step [4000/12500], Loss: 2.3478\n",
      "Epoch [3/5], Step [6000/12500], Loss: 1.3317\n",
      "Epoch [3/5], Step [8000/12500], Loss: 1.2677\n",
      "Epoch [3/5], Step [10000/12500], Loss: 1.1060\n",
      "Epoch [3/5], Step [12000/12500], Loss: 0.9136\n",
      "Epoch [4/5], Step [2000/12500], Loss: 1.2148\n",
      "Epoch [4/5], Step [4000/12500], Loss: 1.0387\n",
      "Epoch [4/5], Step [6000/12500], Loss: 1.3851\n",
      "Epoch [4/5], Step [8000/12500], Loss: 1.2583\n",
      "Epoch [4/5], Step [10000/12500], Loss: 1.5884\n",
      "Epoch [4/5], Step [12000/12500], Loss: 1.7141\n",
      "Epoch [5/5], Step [2000/12500], Loss: 2.0525\n",
      "Epoch [5/5], Step [4000/12500], Loss: 0.9734\n",
      "Epoch [5/5], Step [6000/12500], Loss: 1.6112\n",
      "Epoch [5/5], Step [8000/12500], Loss: 1.1660\n",
      "Epoch [5/5], Step [10000/12500], Loss: 1.1760\n",
      "Epoch [5/5], Step [12000/12500], Loss: 1.3780\n"
     ]
    }
   ],
   "source": [
    "model = ConvNet().to(device)\n",
    "\n",
    "criterion = nn.CrossEntropyLoss()\n",
    "optimizer = torch.optim.SGD(model.parameters(), lr=learning_rate)\n",
    "\n",
    "n_total_steps = len(train_loader)\n",
    "for epoch in range(num_epochs):\n",
    "    for i, (images, labels) in enumerate(train_loader):\n",
    "        # origin shape: [4, 3, 32, 32] = 4, 3, 1024\n",
    "        # input_layer: 3 input channels, 6 output channels, 5 kernel size\n",
    "        images = images.to(device)\n",
    "        labels = labels.to(device)\n",
    "\n",
    "        # Forward pass\n",
    "        outputs = model(images)\n",
    "        loss = criterion(outputs, labels)\n",
    "\n",
    "        # Backward and optimize\n",
    "        optimizer.zero_grad()\n",
    "        loss.backward()\n",
    "        optimizer.step()\n",
    "\n",
    "        if (i+1) % 2000 == 0:\n",
    "            print (f'Epoch [{epoch+1}/{num_epochs}], Step [{i+1}/{n_total_steps}], Loss: {loss.item():.4f}')"
   ]
  },
  {
   "cell_type": "code",
   "execution_count": 9,
   "metadata": {},
   "outputs": [
    {
     "name": "stdout",
     "output_type": "stream",
     "text": [
      "Finished Training\n",
      "Accuracy of the network: 49.37 %\n",
      "Accuracy of plane: 60.4 %\n",
      "Accuracy of car: 77.1 %\n",
      "Accuracy of bird: 34.5 %\n",
      "Accuracy of cat: 22.2 %\n",
      "Accuracy of deer: 30.4 %\n",
      "Accuracy of dog: 37.8 %\n",
      "Accuracy of frog: 66.7 %\n",
      "Accuracy of horse: 62.1 %\n",
      "Accuracy of ship: 56.0 %\n",
      "Accuracy of truck: 46.5 %\n"
     ]
    }
   ],
   "source": [
    "print('Finished Training')\n",
    "PATH = './cnn.pth'\n",
    "torch.save(model.state_dict(), PATH)\n",
    "\n",
    "with torch.no_grad():\n",
    "    n_correct = 0\n",
    "    n_samples = 0\n",
    "    n_class_correct = [0 for i in range(10)]\n",
    "    n_class_samples = [0 for i in range(10)]\n",
    "    for images, labels in test_loader:\n",
    "        images = images.to(device)\n",
    "        labels = labels.to(device)\n",
    "        outputs = model(images)\n",
    "        # max returns (value ,index)\n",
    "        _, predicted = torch.max(outputs, 1)\n",
    "        n_samples += labels.size(0)\n",
    "        n_correct += (predicted == labels).sum().item()\n",
    "        \n",
    "        for i in range(batch_size):\n",
    "            label = labels[i]\n",
    "            pred = predicted[i]\n",
    "            if (label == pred):\n",
    "                n_class_correct[label] += 1\n",
    "            n_class_samples[label] += 1\n",
    "\n",
    "    acc = 100.0 * n_correct / n_samples\n",
    "    print(f'Accuracy of the network: {acc} %')\n",
    "\n",
    "    for i in range(10):\n",
    "        acc = 100.0 * n_class_correct[i] / n_class_samples[i]\n",
    "        print(f'Accuracy of {classes[i]}: {acc} %')\n"
   ]
  }
 ],
 "metadata": {
  "kernelspec": {
   "display_name": "base",
   "language": "python",
   "name": "python3"
  },
  "language_info": {
   "codemirror_mode": {
    "name": "ipython",
    "version": 3
   },
   "file_extension": ".py",
   "mimetype": "text/x-python",
   "name": "python",
   "nbconvert_exporter": "python",
   "pygments_lexer": "ipython3",
   "version": "3.9.12"
  }
 },
 "nbformat": 4,
 "nbformat_minor": 2
}
