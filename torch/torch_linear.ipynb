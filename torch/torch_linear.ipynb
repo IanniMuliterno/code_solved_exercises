{
 "cells": [
  {
   "cell_type": "code",
   "execution_count": 1,
   "metadata": {},
   "outputs": [],
   "source": [
    "import torch\n",
    "import torch.nn as nn\n",
    "import numpy as np\n",
    "from sklearn import datasets\n",
    "import matplotlib.pyplot as plt"
   ]
  },
  {
   "cell_type": "code",
   "execution_count": 2,
   "metadata": {},
   "outputs": [],
   "source": [
    "X_numpy, y_numpy = datasets.make_regression(n_samples=100, n_features=1, noise=20, random_state=4)"
   ]
  },
  {
   "cell_type": "code",
   "execution_count": 3,
   "metadata": {},
   "outputs": [],
   "source": [
    "iteration = 100\n",
    "lr = 0.04\n",
    "# remember that we generate x by running: torch.tensor([1, 2, 3, 4],dtype = torch.float32)\n",
    "X = torch.from_numpy(X_numpy.astype(np.float32))\n",
    "y = torch.from_numpy(y_numpy.astype(np.float32))\n",
    "y = y.view(y.shape[0], 1)"
   ]
  },
  {
   "cell_type": "code",
   "execution_count": 4,
   "metadata": {},
   "outputs": [
    {
     "name": "stdout",
     "output_type": "stream",
     "text": [
      "torch.Size([100, 1])\n"
     ]
    }
   ],
   "source": [
    "print(X.shape)\n",
    "n_samples, n_features = X.shape"
   ]
  },
  {
   "cell_type": "code",
   "execution_count": 5,
   "metadata": {},
   "outputs": [],
   "source": [
    "input_size = n_features\n",
    "output_size = 1\n",
    "model = nn.Linear(input_size, output_size)"
   ]
  },
  {
   "cell_type": "code",
   "execution_count": 6,
   "metadata": {},
   "outputs": [],
   "source": [
    "l = nn.MSELoss()\n",
    "optmizer = torch.optim.SGD(model.parameters(), lr = lr)"
   ]
  },
  {
   "cell_type": "code",
   "execution_count": 7,
   "metadata": {},
   "outputs": [
    {
     "name": "stdout",
     "output_type": "stream",
     "text": [
      "Iter: 0 ------  Loss: 5586.02832\n",
      "Iter: 10 ------  Loss: 1385.38318\n",
      "Iter: 20 ------  Loss: 517.44666\n",
      "Iter: 30 ------  Loss: 337.47598\n",
      "Iter: 40 ------  Loss: 300.03772\n",
      "Iter: 50 ------  Loss: 292.22711\n",
      "Iter: 60 ------  Loss: 290.59338\n",
      "Iter: 70 ------  Loss: 290.25085\n",
      "Iter: 80 ------  Loss: 290.17889\n",
      "Iter: 90 ------  Loss: 290.16379\n"
     ]
    }
   ],
   "source": [
    "for i in range(iteration):\n",
    "\n",
    "    #forward\n",
    "    y_pred = model(X)\n",
    "\n",
    "    #loss\n",
    "    loss = l(y_pred,y)\n",
    "\n",
    "    #backward / gradient \n",
    "    loss.backward()\n",
    "\n",
    "    # updating weights, at first we used : ww -= grd*lr\n",
    "    optmizer.step()\n",
    "    \n",
    "    #zero grad\n",
    "    optmizer.zero_grad()\n",
    "    \n",
    "    if(i % 10 == 0):\n",
    "        print(f'Iter: {i} ------  Loss: {loss.item():.5f}')\n",
    "\n"
   ]
  },
  {
   "cell_type": "code",
   "execution_count": 8,
   "metadata": {},
   "outputs": [
    {
     "data": {
      "image/png": "[encoded data removed]",
      "text/plain": [
       "<Figure size 432x288 with 1 Axes>"
      ]
     },
     "metadata": {
      "needs_background": "light"
     },
     "output_type": "display_data"
    }
   ],
   "source": [
    "# Plot\n",
    "predicted = model(X).detach().numpy()\n",
    "\n",
    "plt.plot(X_numpy, y_numpy, 'ro')\n",
    "plt.plot(X_numpy, predicted, 'b')\n",
    "plt.show()"
   ]
  }
 ],
 "metadata": {
  "kernelspec": {
   "display_name": "Python 3 (ipykernel)",
   "language": "python",
   "name": "python3"
  },
  "language_info": {
   "codemirror_mode": {
    "name": "ipython",
    "version": 3
   },
   "file_extension": ".py",
   "mimetype": "text/x-python",
   "name": "python",
   "nbconvert_exporter": "python",
   "pygments_lexer": "ipython3",
   "version": "3.9.12"
  }
 },
 "nbformat": 4,
 "nbformat_minor": 2
}
