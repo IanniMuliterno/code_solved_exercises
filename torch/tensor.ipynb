{
 "cells": [
  {
   "cell_type": "markdown",
   "metadata": {},
   "source": [
    "# Lesson 1 on pytorch for deeplearning\n",
    "### tensor basics\n",
    "- zeros,ones,rand,empty\n",
    "- operacoes com tensores (add, multiplicar, sub,div)\n",
    "- view\n",
    "- transform in numpy\n",
    "- every function with _ changes data inplace\n",
    "- checking if cuda is available\n",
    "- setting device to #azureml-core of version 1.0.72 or higher is required\n",
    "- nao da pra transformar um atensor gpu em numpy"
   ]
  },
  {
   "cell_type": "code",
   "execution_count": 2,
   "metadata": {},
   "outputs": [],
   "source": [
    "import torch"
   ]
  },
  {
   "cell_type": "code",
   "execution_count": 18,
   "metadata": {},
   "outputs": [
    {
     "name": "stdout",
     "output_type": "stream",
     "text": [
      "tensor([[0., 0., 0.],\n",
      "        [0., 0., 0.],\n",
      "        [0., 0., 0.]])\n",
      " \n",
      "tensor([[1., 1., 1.],\n",
      "        [1., 1., 1.],\n",
      "        [1., 1., 1.]])\n",
      " \n",
      "torch.Size([3, 3])\n"
     ]
    }
   ],
   "source": [
    "print(torch.zeros(3,3))\n",
    "print(' ')\n",
    "print(torch.ones(3,3))\n",
    "print(' ')\n",
    "print(torch.ones(3,3).size())"
   ]
  },
  {
   "cell_type": "code",
   "execution_count": 4,
   "metadata": {},
   "outputs": [
    {
     "name": "stdout",
     "output_type": "stream",
     "text": [
      "tensor([[[7.6094e+19, 1.9772e-42],\n",
      "         [0.0000e+00, 0.0000e+00]],\n",
      "\n",
      "        [[0.0000e+00, 0.0000e+00],\n",
      "         [0.0000e+00, 0.0000e+00]]])\n",
      " \n",
      "tensor([[0.1656, 0.2290, 0.7049],\n",
      "        [0.1973, 0.1754, 0.6171],\n",
      "        [0.6258, 0.9490, 0.4449]])\n"
     ]
    }
   ],
   "source": [
    "print(torch.empty(2,2,2))\n",
    "print(' ')\n",
    "print(torch.rand([3,3]))"
   ]
  },
  {
   "cell_type": "markdown",
   "metadata": {},
   "source": [
    "## operations with tensors"
   ]
  },
  {
   "cell_type": "code",
   "execution_count": 30,
   "metadata": {},
   "outputs": [
    {
     "name": "stdout",
     "output_type": "stream",
     "text": [
      "tensor([[1.],\n",
      "        [1.]])\n",
      "\n",
      "tensor([[2., 2.],\n",
      "        [2., 2.]])\n"
     ]
    }
   ],
   "source": [
    "x = torch.ones([2,1])\n",
    "y = torch.ones([1,2])\n",
    "\n",
    "\n",
    "print(x)\n",
    "print('')\n",
    "print(x + y)"
   ]
  },
  {
   "cell_type": "code",
   "execution_count": 31,
   "metadata": {},
   "outputs": [
    {
     "name": "stdout",
     "output_type": "stream",
     "text": [
      "x + x with add\n",
      "tensor([[2.],\n",
      "        [2.]])\n",
      "heres how x looks like after the sum\n",
      "tensor([[1.],\n",
      "        [1.]])\n",
      "x + x with add_\n",
      "tensor([[2.],\n",
      "        [2.]])\n",
      "how X looks like, after the sum\n",
      "tensor([[2.],\n",
      "        [2.]])\n"
     ]
    }
   ],
   "source": [
    "# when a function has underline at the end, its an inline function\n",
    "print('x + x with add')\n",
    "print(x.add(x))\n",
    "print('heres how x looks like after the sum')\n",
    "print(x)\n",
    "print('x + x with add_')\n",
    "print(x.add_(x))\n",
    "print('how X looks like, after the sum')\n",
    "print(x)"
   ]
  },
  {
   "cell_type": "code",
   "execution_count": 14,
   "metadata": {},
   "outputs": [
    {
     "name": "stdout",
     "output_type": "stream",
     "text": [
      "[[1.]\n",
      " [1.]]\n",
      "\n",
      "<class 'numpy.ndarray'>\n",
      "\n",
      "tensor([1., 1., 1., 1., 1., 1., 1., 1., 1., 1., 1., 1., 1., 1., 1., 1., 1., 1.,\n",
      "        1., 1., 1., 1., 1., 1., 1., 1., 1.])\n",
      "\n",
      "<built-in method type of Tensor object at 0x00000297F19288B0>\n",
      "\n",
      "<class 'torch.Tensor'>\n"
     ]
    }
   ],
   "source": [
    "# turn tensor to numpy\n",
    "print(x.numpy())\n",
    "print('')\n",
    "#testing type\n",
    "print(type(x.numpy()))\n",
    "print('')\n",
    "# see tensor as a vector\n",
    "print(torch.ones([3,3,3]).view(27))\n",
    "print('')\n",
    "print(torch.ones([3,3,3]).view(27).type)\n",
    "print('')\n",
    "print(type(torch.ones([3,3,3]).view(27)))"
   ]
  },
  {
   "cell_type": "markdown",
   "metadata": {},
   "source": [
    "How to check if there's gpu available"
   ]
  },
  {
   "cell_type": "code",
   "execution_count": 15,
   "metadata": {},
   "outputs": [
    {
     "data": {
      "text/plain": [
       "False"
      ]
     },
     "execution_count": 15,
     "metadata": {},
     "output_type": "execute_result"
    }
   ],
   "source": [
    "torch.cuda.is_available()"
   ]
  },
  {
   "cell_type": "code",
   "execution_count": 32,
   "metadata": {},
   "outputs": [],
   "source": [
    "device = torch.device('cuda')\n",
    "z = torch.ones(5,device=device)\n",
    "\n",
    "z2 = x + z\n",
    "\n"
   ]
  },
  {
   "cell_type": "code",
   "execution_count": null,
   "metadata": {},
   "outputs": [],
   "source": [
    "x.to(device)\n",
    "z2 = x + z\n",
    "z2 = z2.to('cpu')\n",
    "z2"
   ]
  },
  {
   "cell_type": "markdown",
   "metadata": {},
   "source": [
    "tensor -> numpy -> tensor"
   ]
  },
  {
   "cell_type": "code",
   "execution_count": 20,
   "metadata": {},
   "outputs": [
    {
     "name": "stdout",
     "output_type": "stream",
     "text": [
      "[[1.]\n",
      " [1.]]\n",
      "\n",
      "<class 'numpy.ndarray'>\n",
      "\n",
      "tensor([[1.],\n",
      "        [1.]])\n",
      "\n",
      "<class 'torch.Tensor'>\n"
     ]
    }
   ],
   "source": [
    "print(x.numpy())\n",
    "print('')\n",
    "#testing type\n",
    "print(type(x.numpy()))\n",
    "print('')\n",
    "print(torch.from_numpy(x.numpy()))\n",
    "print('')\n",
    "#testing type\n",
    "print(type(torch.from_numpy(x.numpy())))\n"
   ]
  }
 ],
 "metadata": {
  "kernelspec": {
   "display_name": "base",
   "language": "python",
   "name": "python3"
  },
  "language_info": {
   "codemirror_mode": {
    "name": "ipython",
    "version": 3
   },
   "file_extension": ".py",
   "mimetype": "text/x-python",
   "name": "python",
   "nbconvert_exporter": "python",
   "pygments_lexer": "ipython3",
   "version": "3.9.12"
  }
 },
 "nbformat": 4,
 "nbformat_minor": 2
}
