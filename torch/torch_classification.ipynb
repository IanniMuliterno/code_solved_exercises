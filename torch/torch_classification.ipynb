{
 "cells": [
  {
   "cell_type": "markdown",
   "metadata": {},
   "source": [
    "## steps \n",
    "\n",
    "* prepare data\n",
    "* design data/model (input,output)\n",
    "* construct loss and optmizer\n",
    "* training loop\n",
    "    - forwar pass: compute prediction and loss\n",
    "    - backward pass: gradients\n",
    "    - update weights"
   ]
  },
  {
   "cell_type": "code",
   "execution_count": 2,
   "metadata": {},
   "outputs": [],
   "source": [
    "import torch \n",
    "import torch.nn as nn\n",
    "import numpy as np\n",
    "import matplotlib as mtl\n",
    "from sklearn import datasets\n",
    "from sklearn.preprocessing import StandardScaler\n",
    "from sklearn.model_selection import train_test_split"
   ]
  },
  {
   "cell_type": "code",
   "execution_count": 16,
   "metadata": {},
   "outputs": [],
   "source": [
    "#load data\n",
    "df_store = datasets.load_breast_cancer()\n",
    "\n",
    "#separate data and target\n",
    "X, y = df_store.data, df_store.target\n",
    "\n",
    "#split n_samples, n_features\n",
    "n_samples, n_features = X.shape[0], X.shape[1]\n",
    "\n",
    "#train test split\n",
    "X_train, X_test, y_train, y_test = train_test_split(X,y, test_size=.3,random_state=2024)"
   ]
  },
  {
   "cell_type": "code",
   "execution_count": 19,
   "metadata": {},
   "outputs": [],
   "source": [
    "#scale\n",
    "scaler = StandardScaler()\n",
    "scaled_train = scaler.fit_transform(X_train)\n",
    "scaled_test = scaler.transform(X_test)\n",
    "#torch.from_numpy (include astype)\n",
    "\n",
    "X_torch_train = torch.from_numpy(scaled_train.astype(np.float32))\n",
    "X_torch_test = torch.from_numpy(scaled_test.astype(np.float32))\n",
    "y_torch_train = torch.from_numpy(y_train.astype(np.float32))\n",
    "y_torch_test = torch.from_numpy(y_test.astype(np.float32))"
   ]
  },
  {
   "cell_type": "markdown",
   "metadata": {},
   "source": [
    "## A big difference when we want to use torch\n",
    "#### transform your model in a module"
   ]
  }
 ],
 "metadata": {
  "kernelspec": {
   "display_name": "base",
   "language": "python",
   "name": "python3"
  },
  "language_info": {
   "codemirror_mode": {
    "name": "ipython",
    "version": 3
   },
   "file_extension": ".py",
   "mimetype": "text/x-python",
   "name": "python",
   "nbconvert_exporter": "python",
   "pygments_lexer": "ipython3",
   "version": "3.9.12"
  }
 },
 "nbformat": 4,
 "nbformat_minor": 2
}
