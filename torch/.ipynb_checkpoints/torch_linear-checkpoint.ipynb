{
 "cells": [
  {
   "cell_type": "code",
   "execution_count": 1,
   "metadata": {},
   "outputs": [],
   "source": [
    "import torch\n",
    "import torch.nn as nn\n",
    "import numpy as np\n",
    "from sklearn import datasets\n",
    "import matplotlib.pyplot as plt"
   ]
  },
  {
   "cell_type": "code",
   "execution_count": 2,
   "metadata": {},
   "outputs": [],
   "source": [
    "rng = np.random.default_rng(seed=42)\n",
    "X_numpy, y_numpy = datasets.make_regression(n_samples=100, n_features=1, noise=20, random_state=4)"
   ]
  },
  {
   "cell_type": "code",
   "execution_count": 9,
   "metadata": {},
   "outputs": [],
   "source": [
    "iteration = 100\n",
    "lr = 0.04\n",
    "# remember that we generate x by running: torch.tensor([1, 2, 3, 4],dtype = torch.float32)\n",
    "X = torch.from_numpy(X_numpy.astype(np.float32))\n",
    "y = torch.from_numpy(y_numpy.astype(np.float32))\n",
    "y = y.view(y.shape[0], 1)"
   ]
  },
  {
   "cell_type": "code",
   "execution_count": 10,
   "metadata": {},
   "outputs": [
    {
     "name": "stdout",
     "output_type": "stream",
     "text": [
      "torch.Size([100, 1])\n"
     ]
    }
   ],
   "source": [
    "print(X.shape)\n",
    "n_samples, n_features = X.shape"
   ]
  },
  {
   "cell_type": "code",
   "execution_count": 11,
   "metadata": {},
   "outputs": [],
   "source": [
    "input_size = n_features\n",
    "output_size = 1\n",
    "model = nn.Linear(input_size, output_size)"
   ]
  },
  {
   "cell_type": "code",
   "execution_count": 12,
   "metadata": {},
   "outputs": [],
   "source": [
    "l = nn.MSELoss()\n",
    "optmizer = torch.optim.SGD(model.parameters(), lr = lr)"
   ]
  },
  {
   "cell_type": "code",
   "execution_count": 13,
   "metadata": {},
   "outputs": [
    {
     "name": "stdout",
     "output_type": "stream",
     "text": [
      "Iter: 0 ------  Loss: 5638.48145\n",
      "Iter: 1 ------  Loss: 4857.47412\n",
      "Iter: 2 ------  Loss: 4190.66650\n",
      "Iter: 3 ------  Loss: 3621.33716\n",
      "Iter: 4 ------  Loss: 3135.21680\n",
      "Iter: 5 ------  Loss: 2720.12744\n",
      "Iter: 6 ------  Loss: 2365.67578\n",
      "Iter: 7 ------  Loss: 2062.99268\n",
      "Iter: 8 ------  Loss: 1804.50623\n",
      "Iter: 9 ------  Loss: 1583.75513\n",
      "Iter: 10 ------  Loss: 1395.22339\n",
      "Iter: 11 ------  Loss: 1234.20215\n",
      "Iter: 12 ------  Loss: 1096.67200\n",
      "Iter: 13 ------  Loss: 979.20154\n",
      "Iter: 14 ------  Loss: 878.86127\n",
      "Iter: 15 ------  Loss: 793.15002\n",
      "Iter: 16 ------  Loss: 719.93225\n",
      "Iter: 17 ------  Loss: 657.38483\n",
      "Iter: 18 ------  Loss: 603.95062\n",
      "Iter: 19 ------  Loss: 558.30042\n",
      "Iter: 20 ------  Loss: 519.29883\n",
      "Iter: 21 ------  Loss: 485.97629\n",
      "Iter: 22 ------  Loss: 457.50507\n",
      "Iter: 23 ------  Loss: 433.17804\n",
      "Iter: 24 ------  Loss: 412.39120\n",
      "Iter: 25 ------  Loss: 394.62881\n",
      "Iter: 26 ------  Loss: 379.45044\n",
      "Iter: 27 ------  Loss: 366.47961\n",
      "Iter: 28 ------  Loss: 355.39490\n",
      "Iter: 29 ------  Loss: 345.92175\n",
      "Iter: 30 ------  Loss: 337.82571\n",
      "Iter: 31 ------  Loss: 330.90634\n",
      "Iter: 32 ------  Loss: 324.99243\n",
      "Iter: 33 ------  Loss: 319.93759\n",
      "Iter: 34 ------  Loss: 315.61710\n",
      "Iter: 35 ------  Loss: 311.92407\n",
      "Iter: 36 ------  Loss: 308.76724\n",
      "Iter: 37 ------  Loss: 306.06876\n",
      "Iter: 38 ------  Loss: 303.76196\n",
      "Iter: 39 ------  Loss: 301.78998\n",
      "Iter: 40 ------  Loss: 300.10416\n",
      "Iter: 41 ------  Loss: 298.66290\n",
      "Iter: 42 ------  Loss: 297.43076\n",
      "Iter: 43 ------  Loss: 296.37726\n",
      "Iter: 44 ------  Loss: 295.47659\n",
      "Iter: 45 ------  Loss: 294.70645\n",
      "Iter: 46 ------  Loss: 294.04797\n",
      "Iter: 47 ------  Loss: 293.48489\n",
      "Iter: 48 ------  Loss: 293.00348\n",
      "Iter: 49 ------  Loss: 292.59180\n",
      "Iter: 50 ------  Loss: 292.23978\n",
      "Iter: 51 ------  Loss: 291.93875\n",
      "Iter: 52 ------  Loss: 291.68134\n",
      "Iter: 53 ------  Loss: 291.46118\n",
      "Iter: 54 ------  Loss: 291.27292\n",
      "Iter: 55 ------  Loss: 291.11188\n",
      "Iter: 56 ------  Loss: 290.97418\n",
      "Iter: 57 ------  Loss: 290.85638\n",
      "Iter: 58 ------  Loss: 290.75568\n",
      "Iter: 59 ------  Loss: 290.66953\n",
      "Iter: 60 ------  Loss: 290.59579\n",
      "Iter: 61 ------  Loss: 290.53275\n",
      "Iter: 62 ------  Loss: 290.47882\n",
      "Iter: 63 ------  Loss: 290.43274\n",
      "Iter: 64 ------  Loss: 290.39331\n",
      "Iter: 65 ------  Loss: 290.35956\n",
      "Iter: 66 ------  Loss: 290.33066\n",
      "Iter: 67 ------  Loss: 290.30603\n",
      "Iter: 68 ------  Loss: 290.28485\n",
      "Iter: 69 ------  Loss: 290.26678\n",
      "Iter: 70 ------  Loss: 290.25134\n",
      "Iter: 71 ------  Loss: 290.23813\n",
      "Iter: 72 ------  Loss: 290.22678\n",
      "Iter: 73 ------  Loss: 290.21710\n",
      "Iter: 74 ------  Loss: 290.20883\n",
      "Iter: 75 ------  Loss: 290.20175\n",
      "Iter: 76 ------  Loss: 290.19568\n",
      "Iter: 77 ------  Loss: 290.19052\n",
      "Iter: 78 ------  Loss: 290.18607\n",
      "Iter: 79 ------  Loss: 290.18225\n",
      "Iter: 80 ------  Loss: 290.17902\n",
      "Iter: 81 ------  Loss: 290.17618\n",
      "Iter: 82 ------  Loss: 290.17383\n",
      "Iter: 83 ------  Loss: 290.17184\n",
      "Iter: 84 ------  Loss: 290.17004\n",
      "Iter: 85 ------  Loss: 290.16855\n",
      "Iter: 86 ------  Loss: 290.16730\n",
      "Iter: 87 ------  Loss: 290.16617\n",
      "Iter: 88 ------  Loss: 290.16525\n",
      "Iter: 89 ------  Loss: 290.16446\n",
      "Iter: 90 ------  Loss: 290.16379\n",
      "Iter: 91 ------  Loss: 290.16321\n",
      "Iter: 92 ------  Loss: 290.16269\n",
      "Iter: 93 ------  Loss: 290.16226\n",
      "Iter: 94 ------  Loss: 290.16193\n",
      "Iter: 95 ------  Loss: 290.16159\n",
      "Iter: 96 ------  Loss: 290.16132\n",
      "Iter: 97 ------  Loss: 290.16110\n",
      "Iter: 98 ------  Loss: 290.16089\n",
      "Iter: 99 ------  Loss: 290.16074\n"
     ]
    }
   ],
   "source": [
    "for i in range(iteration):\n",
    "\n",
    "    y_pred = model(X)\n",
    "\n",
    "    loss = l(y_pred,y)\n",
    "\n",
    "    loss.backward()\n",
    "\n",
    "    # updating weights, at first we used : ww -= grd*lr\n",
    "    optmizer.step()\n",
    "    \n",
    "    #zero grad\n",
    "    optmizer.zero_grad()\n",
    "\n",
    "    print(f'Iter: {i} ------  Loss: {loss.item():.5f}')\n",
    "\n"
   ]
  },
  {
   "cell_type": "code",
   "execution_count": 14,
   "metadata": {},
   "outputs": [
    {
     "data": {
      "image/png": "[encoded data removed]",
      "text/plain": [
       "<Figure size 432x288 with 1 Axes>"
      ]
     },
     "metadata": {
      "needs_background": "light"
     },
     "output_type": "display_data"
    }
   ],
   "source": [
    "# Plot\n",
    "predicted = model(X).detach().numpy()\n",
    "\n",
    "plt.plot(X_numpy, y_numpy, 'ro')\n",
    "plt.plot(X_numpy, predicted, 'b')\n",
    "plt.show()"
   ]
  }
 ],
 "metadata": {
  "kernelspec": {
   "display_name": "Python 3 (ipykernel)",
   "language": "python",
   "name": "python3"
  },
  "language_info": {
   "codemirror_mode": {
    "name": "ipython",
    "version": 3
   },
   "file_extension": ".py",
   "mimetype": "text/x-python",
   "name": "python",
   "nbconvert_exporter": "python",
   "pygments_lexer": "ipython3",
   "version": "3.9.12"
  }
 },
 "nbformat": 4,
 "nbformat_minor": 2
}
